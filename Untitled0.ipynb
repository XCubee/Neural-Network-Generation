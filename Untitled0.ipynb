{
  "nbformat": 4,
  "nbformat_minor": 0,
  "metadata": {
    "colab": {
      "provenance": []
    },
    "kernelspec": {
      "name": "python3",
      "display_name": "Python 3"
    },
    "language_info": {
      "name": "python"
    }
  },
  "cells": [
    {
      "cell_type": "code",
      "execution_count": 22,
      "metadata": {
        "id": "ecjODZOJDXyH"
      },
      "outputs": [],
      "source": [
        "import torch\n",
        "import torch.nn as nn\n",
        "!pip install mitdeeplearning --quiet\n",
        "import mitdeeplearning as mdl\n",
        "import numpy as np\n",
        "import matplotlib.pyplot as plt"
      ]
    },
    {
      "cell_type": "code",
      "source": [
        "integer=torch.tensor(1234,)\n",
        "decimal= torch.tensor(3.14159265359,)\n",
        "\n",
        "print(f\"integer is a {integer.ndim}--d Tensor: {integer}\")\n",
        "print(f\"integer is a {decimal.ndim}--d Tensor: {decimal}\")\n"
      ],
      "metadata": {
        "colab": {
          "base_uri": "https://localhost:8080/"
        },
        "collapsed": true,
        "id": "Kd_4rbpJGf0k",
        "outputId": "80bb2956-10c9-4235-de54-f9c5882e1064"
      },
      "execution_count": 23,
      "outputs": [
        {
          "output_type": "stream",
          "name": "stdout",
          "text": [
            "integer is a 0--d Tensor: 1234\n",
            "integer is a 0--d Tensor: 3.1415927410125732\n"
          ]
        }
      ]
    },
    {
      "cell_type": "code",
      "source": [
        "fibonacci=torch.tensor([1,1,2,3,5,8])\n",
        "count_to_100= torch.tensor(range(100))\n",
        "print(f\"Fibonacci is a {fibonacci.ndim} deminsional tensor and shape is {fibonacci.shape}\")\n",
        "print(f\"count_to_100 is a  {count_to_100.ndim} deminsional tensor and  shape is {count_to_100.shape}\")"
      ],
      "metadata": {
        "colab": {
          "base_uri": "https://localhost:8080/"
        },
        "id": "V6MyK5jLKerg",
        "outputId": "44496073-a2ce-494f-e94a-2b66d367d0dc"
      },
      "execution_count": 24,
      "outputs": [
        {
          "output_type": "stream",
          "name": "stdout",
          "text": [
            "Fibonacci is a 1 deminsional tensor and shape is torch.Size([6])\n",
            "count_to_100 is a  1 deminsional tensor and  shape is torch.Size([100])\n"
          ]
        }
      ]
    },
    {
      "cell_type": "code",
      "source": [
        "import torch\n",
        "\n",
        "### Defining higher-order Tensors ###\n",
        "\n",
        "'''TODO: Define a 2-d Tensor'''\n",
        "# Let's define a simple 2D tensor (matrix) with 3 rows and 4 columns\n",
        "matrix = torch.tensor([\n",
        "    [1, 2, 3, 4],\n",
        "    [5, 6, 7, 8],\n",
        "    [9, 10, 11, 12]\n",
        "])\n",
        "\n",
        "assert isinstance(matrix, torch.Tensor), \"matrix must be a torch Tensor object\"\n",
        "assert matrix.ndim == 2\n",
        "\n",
        "'''TODO: Define a 4-d Tensor.'''\n",
        "# Use torch.zeros to initialize a 4-d Tensor of zeros with size 10 x 3 x 256 x 256.\n",
        "# You can think of this as 10 images where each image is RGB 256 x 256.\n",
        "images = torch.zeros(10, 3, 256, 256)\n",
        "\n",
        "assert isinstance(images, torch.Tensor), \"images must be a torch Tensor object\"\n",
        "assert images.ndim == 4, \"images must have 4 dimensions\"\n",
        "assert images.shape == (10, 3, 256, 256), \"images is incorrect shape\"\n",
        "\n",
        "print(f\"images is a {images.ndim}-d Tensor with shape: {images.shape}\")\n"
      ],
      "metadata": {
        "colab": {
          "base_uri": "https://localhost:8080/"
        },
        "id": "j3QJpMbQMg1c",
        "outputId": "641e0484-c07d-49a6-d5be-def55883dab4"
      },
      "execution_count": 25,
      "outputs": [
        {
          "output_type": "stream",
          "name": "stdout",
          "text": [
            "images is a 4-d Tensor with shape: torch.Size([10, 3, 256, 256])\n"
          ]
        }
      ]
    },
    {
      "cell_type": "code",
      "source": [
        "a=torch.tensor(10)\n",
        "b=torch.tensor(15)\n",
        "c=torch.add(a,b)\n",
        "d=a+b\n",
        "print(f\"The value is {c}\")\n",
        "print(f\"The value is {d}\")"
      ],
      "metadata": {
        "colab": {
          "base_uri": "https://localhost:8080/"
        },
        "id": "H1Qqf-onQvuS",
        "outputId": "74b6bb22-0b39-4de2-a58b-21e99f21ceaf"
      },
      "execution_count": 26,
      "outputs": [
        {
          "output_type": "stream",
          "name": "stdout",
          "text": [
            "The value is 25\n",
            "The value is 25\n"
          ]
        }
      ]
    },
    {
      "cell_type": "code",
      "source": [
        "def func1(a,b):\n",
        "  c= a+b\n",
        "  print(c)\n",
        "  d=b%1\n",
        "  print(d)\n",
        "  e=a/b\n",
        "  print(e)\n",
        "\n",
        "d=int(input(\"Enter number 1 \"))\n",
        "c=int(input(\"ENter number 2 \"))\n",
        "func1(d,c)"
      ],
      "metadata": {
        "colab": {
          "base_uri": "https://localhost:8080/"
        },
        "id": "3ggGHmt6TcJd",
        "outputId": "7bb77744-336c-4225-e9da-d2a9cfcb9f7b"
      },
      "execution_count": 28,
      "outputs": [
        {
          "output_type": "stream",
          "name": "stdout",
          "text": [
            "Enter number 1 10\n",
            "ENter number 2 20\n",
            "30\n",
            "0\n",
            "0.5\n"
          ]
        }
      ]
    },
    {
      "cell_type": "code",
      "source": [],
      "metadata": {
        "id": "94Sk3_p9X8QU"
      },
      "execution_count": null,
      "outputs": []
    },
    {
      "cell_type": "code",
      "source": [],
      "metadata": {
        "id": "PwNLCspsWcND"
      },
      "execution_count": null,
      "outputs": []
    }
  ]
}